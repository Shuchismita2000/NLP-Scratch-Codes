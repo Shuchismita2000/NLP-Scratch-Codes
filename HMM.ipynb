{
 "cells": [
  {
   "cell_type": "code",
   "execution_count": 1,
   "metadata": {},
   "outputs": [],
   "source": [
    "import nltk as nlp \n",
    "from nltk.corpus import brown\n",
    "import re \n",
    "import pandas as pd"
   ]
  },
  {
   "cell_type": "code",
   "execution_count": 2,
   "metadata": {},
   "outputs": [],
   "source": [
    "t=' Ram is a good boy '\n",
    "s=t.split()"
   ]
  },
  {
   "cell_type": "code",
   "execution_count": 3,
   "metadata": {},
   "outputs": [
    {
     "name": "stdout",
     "output_type": "stream",
     "text": [
      "[21881, 767, 10011, 235]\n",
      "[0.01884356764428277, 0.000660528146938663, 0.008621313271190294, 0.00020237824580258905]\n"
     ]
    }
   ],
   "source": [
    "x=brown.words()\n",
    "word=set(s).intersection(x)\n",
    "count=[]\n",
    "count1=[]\n",
    "for i in word:\n",
    "    y=x.count(i)\n",
    "    count.append(y)\n",
    "    z=y/len(x)\n",
    "    count1.append(z)\n",
    "print(count)\n",
    "print(count1)"
   ]
  },
  {
   "cell_type": "code",
   "execution_count": 4,
   "metadata": {},
   "outputs": [
    {
     "name": "stdout",
     "output_type": "stream",
     "text": [
      "π Matrix\n",
      "{'a': 0.01884356764428277, 'good': 0.000660528146938663, 'is': 0.008621313271190294, 'boy': 0.00020237824580258905}\n"
     ]
    }
   ],
   "source": [
    "pi={}\n",
    "for key in word:\n",
    "    for value in count1:\n",
    "        pi[key]=value\n",
    "        count1.remove(value)\n",
    "        break\n",
    "print(\"π Matrix\")\n",
    "print(pi)"
   ]
  },
  {
   "cell_type": "code",
   "execution_count": null,
   "metadata": {},
   "outputs": [],
   "source": []
  },
  {
   "cell_type": "code",
   "execution_count": 5,
   "metadata": {},
   "outputs": [],
   "source": [
    "w='is'\n",
    "r='raining'\n",
    "o1=[]\n",
    "o2=[]\n",
    "l=[]\n",
    "for i in range(len(x)):\n",
    "    if(x[i]==w):\n",
    "        j=i+1\n",
    "        o1.append(j)\n",
    "for i in o1:    \n",
    "    if(x[i]==r):\n",
    "        o2.append(i)\n",
    "l.append(len(o2))"
   ]
  },
  {
   "cell_type": "code",
   "execution_count": 6,
   "metadata": {},
   "outputs": [
    {
     "data": {
      "text/plain": [
       "[1]"
      ]
     },
     "execution_count": 6,
     "metadata": {},
     "output_type": "execute_result"
    }
   ],
   "source": [
    "l"
   ]
  },
  {
   "cell_type": "code",
   "execution_count": 7,
   "metadata": {},
   "outputs": [],
   "source": [
    "w=['is','was']\n",
    "r=['a','an','the']\n",
    "o1=[]\n",
    "o2=[]\n",
    "o3=[]\n",
    "l=[]\n",
    "\n",
    "for k in w:\n",
    "    for i in range(len(x)):\n",
    "        if(x[i]==k):\n",
    "            j=i+1\n",
    "            o1.append(j)\n",
    "    o3.append(o1)\n",
    "    o1=[]\n",
    "for k in range(len(o3)):\n",
    "    for j in r:\n",
    "        for i in o3[k]:    \n",
    "            if(x[i]==j):\n",
    "                o2.append(i)\n",
    "        l.append(len(o2))\n",
    "        o2=[]"
   ]
  },
  {
   "cell_type": "code",
   "execution_count": 8,
   "metadata": {},
   "outputs": [
    {
     "data": {
      "text/plain": [
       "[864, 161, 782, 776, 106, 524]"
      ]
     },
     "execution_count": 8,
     "metadata": {},
     "output_type": "execute_result"
    }
   ],
   "source": [
    "l"
   ]
  },
  {
   "cell_type": "code",
   "execution_count": 9,
   "metadata": {},
   "outputs": [
    {
     "data": {
      "text/plain": [
       "0"
      ]
     },
     "execution_count": 9,
     "metadata": {},
     "output_type": "execute_result"
    }
   ],
   "source": [
    "len(o1)"
   ]
  },
  {
   "cell_type": "code",
   "execution_count": 10,
   "metadata": {},
   "outputs": [],
   "source": [
    "t='it was raining'\n",
    "t1=t.split()\n",
    "o1=[]\n",
    "o2=[]\n",
    "o3=[]\n",
    "l=[]\n",
    "\n",
    "for k in t1:\n",
    "    for i in range(len(x)):\n",
    "        if(x[i]==k):\n",
    "            j=i+1\n",
    "            o1.append(j)\n",
    "    o3.append(o1)\n",
    "    o1=[]\n",
    "for k in range(len(o3)):\n",
    "    for j in t1:\n",
    "        for i in o3[k]:    \n",
    "            if(x[i]==j):\n",
    "                o2.append(i)\n",
    "        l.append(len(o2))\n",
    "        o2=[]"
   ]
  },
  {
   "cell_type": "code",
   "execution_count": 11,
   "metadata": {},
   "outputs": [
    {
     "data": {
      "text/plain": [
       "[0, 743, 0, 24, 0, 1, 0, 0, 0]"
      ]
     },
     "execution_count": 11,
     "metadata": {},
     "output_type": "execute_result"
    }
   ],
   "source": [
    "l"
   ]
  },
  {
   "cell_type": "code",
   "execution_count": 12,
   "metadata": {},
   "outputs": [],
   "source": [
    "w=['it','was','raining']\n",
    "r=['it','was','raining']\n",
    "o1=[]\n",
    "o2=[]\n",
    "o3=[]\n",
    "l=[]\n",
    "\n",
    "for k in w:\n",
    "    for i in range(len(x)):\n",
    "        if(x[i]==k):\n",
    "            j=i+1\n",
    "            o1.append(j)\n",
    "    o3.append(o1)\n",
    "    o1=[]\n",
    "for k in range(len(o3)):\n",
    "    for j in r:\n",
    "        for i in o3[k]:    \n",
    "            if(x[i]==j):\n",
    "                o2.append(i)\n",
    "        l.append(len(o2))\n",
    "        o2=[]"
   ]
  },
  {
   "cell_type": "code",
   "execution_count": 13,
   "metadata": {},
   "outputs": [
    {
     "data": {
      "text/plain": [
       "[0, 743, 0, 24, 0, 1, 0, 0, 0]"
      ]
     },
     "execution_count": 13,
     "metadata": {},
     "output_type": "execute_result"
    }
   ],
   "source": [
    "l"
   ]
  },
  {
   "cell_type": "code",
   "execution_count": 14,
   "metadata": {},
   "outputs": [],
   "source": [
    "import numpy as np\n",
    "Amatrix = np.zeros ((len(t1), len(t1)))"
   ]
  },
  {
   "cell_type": "code",
   "execution_count": 15,
   "metadata": {},
   "outputs": [
    {
     "data": {
      "text/plain": [
       "array([  0, 743,   0,  24,   0,   1,   0,   0,   0])"
      ]
     },
     "execution_count": 15,
     "metadata": {},
     "output_type": "execute_result"
    }
   ],
   "source": [
    "l=np.array(l)\n",
    "l"
   ]
  },
  {
   "cell_type": "code",
   "execution_count": 16,
   "metadata": {},
   "outputs": [],
   "source": [
    "A=l.reshape((3,3))"
   ]
  },
  {
   "cell_type": "code",
   "execution_count": 17,
   "metadata": {},
   "outputs": [
    {
     "data": {
      "text/html": [
       "<div>\n",
       "<style scoped>\n",
       "    .dataframe tbody tr th:only-of-type {\n",
       "        vertical-align: middle;\n",
       "    }\n",
       "\n",
       "    .dataframe tbody tr th {\n",
       "        vertical-align: top;\n",
       "    }\n",
       "\n",
       "    .dataframe thead th {\n",
       "        text-align: right;\n",
       "    }\n",
       "</style>\n",
       "<table border=\"1\" class=\"dataframe\">\n",
       "  <thead>\n",
       "    <tr style=\"text-align: right;\">\n",
       "      <th></th>\n",
       "      <th>it</th>\n",
       "      <th>was</th>\n",
       "      <th>raining</th>\n",
       "    </tr>\n",
       "    <tr>\n",
       "      <th>#</th>\n",
       "      <th></th>\n",
       "      <th></th>\n",
       "      <th></th>\n",
       "    </tr>\n",
       "  </thead>\n",
       "  <tbody>\n",
       "    <tr>\n",
       "      <th>it</th>\n",
       "      <td>0</td>\n",
       "      <td>743</td>\n",
       "      <td>0</td>\n",
       "    </tr>\n",
       "    <tr>\n",
       "      <th>was</th>\n",
       "      <td>24</td>\n",
       "      <td>0</td>\n",
       "      <td>1</td>\n",
       "    </tr>\n",
       "    <tr>\n",
       "      <th>raining</th>\n",
       "      <td>0</td>\n",
       "      <td>0</td>\n",
       "      <td>0</td>\n",
       "    </tr>\n",
       "  </tbody>\n",
       "</table>\n",
       "</div>"
      ],
      "text/plain": [
       "         it  was  raining\n",
       "#                        \n",
       "it        0  743        0\n",
       "was      24    0        1\n",
       "raining   0    0        0"
      ]
     },
     "execution_count": 17,
     "metadata": {},
     "output_type": "execute_result"
    }
   ],
   "source": [
    "import pandas as pd\n",
    "df = pd.DataFrame(A)\n",
    "df.columns=t1\n",
    "df['#']=t1\n",
    "df.set_index('#')"
   ]
  },
  {
   "cell_type": "code",
   "execution_count": null,
   "metadata": {},
   "outputs": [],
   "source": []
  },
  {
   "cell_type": "code",
   "execution_count": null,
   "metadata": {},
   "outputs": [],
   "source": []
  },
  {
   "cell_type": "code",
   "execution_count": null,
   "metadata": {},
   "outputs": [],
   "source": []
  },
  {
   "cell_type": "code",
   "execution_count": null,
   "metadata": {},
   "outputs": [],
   "source": []
  },
  {
   "cell_type": "code",
   "execution_count": 2,
   "metadata": {},
   "outputs": [],
   "source": [
    "x=(30,80)"
   ]
  },
  {
   "cell_type": "code",
   "execution_count": 3,
   "metadata": {},
   "outputs": [
    {
     "data": {
      "text/plain": [
       "80"
      ]
     },
     "execution_count": 3,
     "metadata": {},
     "output_type": "execute_result"
    }
   ],
   "source": [
    "x[1]"
   ]
  },
  {
   "cell_type": "code",
   "execution_count": 4,
   "metadata": {},
   "outputs": [],
   "source": [
    "import pandas as pd\n",
    "import matplotlib.pyplot as plt\n",
    "import seaborn as sns\n",
    "import nltk\n",
    "from nltk.corpus import brown"
   ]
  },
  {
   "cell_type": "code",
   "execution_count": 49,
   "metadata": {},
   "outputs": [],
   "source": [
    "p=brown.tagged_words(tagset='universal')"
   ]
  },
  {
   "cell_type": "code",
   "execution_count": 17,
   "metadata": {},
   "outputs": [],
   "source": [
    "w='is'\n",
    "r='raining'\n",
    "o1=[]\n",
    "o2=[]\n",
    "l=[]\n",
    "for t in p:\n",
    "    if(t[0]==w):\n",
    "        o1.append(t[1])\n",
    "l.append(len(o1))"
   ]
  },
  {
   "cell_type": "code",
   "execution_count": 18,
   "metadata": {},
   "outputs": [
    {
     "data": {
      "text/plain": [
       "[10011]"
      ]
     },
     "execution_count": 18,
     "metadata": {},
     "output_type": "execute_result"
    }
   ],
   "source": [
    "l"
   ]
  },
  {
   "cell_type": "code",
   "execution_count": 19,
   "metadata": {},
   "outputs": [],
   "source": [
    "w='bear'\n",
    "o1=[]\n",
    "l=[]\n",
    "for t in p:\n",
    "    if(t[0]==w):\n",
    "        o1.append(t[1])\n",
    "l.append(len(o1))"
   ]
  },
  {
   "cell_type": "code",
   "execution_count": 21,
   "metadata": {
    "collapsed": true,
    "jupyter": {
     "outputs_hidden": true
    }
   },
   "outputs": [
    {
     "data": {
      "text/plain": [
       "['VB',\n",
       " 'VB',\n",
       " 'VB',\n",
       " 'VB',\n",
       " 'VB',\n",
       " 'VB',\n",
       " 'VB',\n",
       " 'VB',\n",
       " 'VB',\n",
       " 'VB',\n",
       " 'VB',\n",
       " 'VB',\n",
       " 'VB',\n",
       " 'VB',\n",
       " 'VB',\n",
       " 'VB',\n",
       " 'VB',\n",
       " 'VB',\n",
       " 'NN',\n",
       " 'VB',\n",
       " 'NN',\n",
       " 'NNS',\n",
       " 'VB',\n",
       " 'VB',\n",
       " 'NN',\n",
       " 'NN',\n",
       " 'VB',\n",
       " 'VB',\n",
       " 'VB',\n",
       " 'VB',\n",
       " 'VB',\n",
       " 'VB',\n",
       " 'VB',\n",
       " 'VB',\n",
       " 'VB',\n",
       " 'VB',\n",
       " 'VB',\n",
       " 'VB',\n",
       " 'VB',\n",
       " 'NN',\n",
       " 'NN',\n",
       " 'VB',\n",
       " 'VB',\n",
       " 'VB',\n",
       " 'VB',\n",
       " 'VB',\n",
       " 'VB',\n",
       " 'NN',\n",
       " 'VB',\n",
       " 'NN',\n",
       " 'NN',\n",
       " 'NN',\n",
       " 'VB']"
      ]
     },
     "execution_count": 21,
     "metadata": {},
     "output_type": "execute_result"
    }
   ],
   "source": [
    "o1"
   ]
  },
  {
   "cell_type": "code",
   "execution_count": 27,
   "metadata": {},
   "outputs": [
    {
     "name": "stdout",
     "output_type": "stream",
     "text": [
      "{'VB': 42, 'NN': 10, 'NNS': 1}\n"
     ]
    }
   ],
   "source": [
    "counts=dict()\n",
    "for i in o1:\n",
    "    if i in counts:\n",
    "        counts[i]+= 1\n",
    "    else:\n",
    "        counts[i]=1\n",
    "print(counts)    "
   ]
  },
  {
   "cell_type": "code",
   "execution_count": 50,
   "metadata": {},
   "outputs": [
    {
     "name": "stdout",
     "output_type": "stream",
     "text": [
      "{'VERB': 42, 'NOUN': 11}\n",
      "{'VERB': 42, 'NOUN': 11}\n",
      "{'VERB': 42, 'NOUN': 11}\n"
     ]
    }
   ],
   "source": [
    "w='bear bear bear'\n",
    "t1=w.split()\n",
    "o1=[]\n",
    "l=[]\n",
    "for k in t1:\n",
    "    for t in p:\n",
    "        if(t[0]==k):\n",
    "            o1.append(t[1])\n",
    "    l.append(o1)\n",
    "    o1=[]\n",
    "counts=dict()\n",
    "for i in range(len(l)):\n",
    "    for j in l[i] :\n",
    "        if j in counts:\n",
    "            counts[j]+= 1\n",
    "        else:\n",
    "            counts[j]=1\n",
    "    print(counts)\n",
    "    counts=dict()"
   ]
  },
  {
   "cell_type": "code",
   "execution_count": 51,
   "metadata": {},
   "outputs": [
    {
     "name": "stdout",
     "output_type": "stream",
     "text": [
      "{'PRON': 6564, 'X': 2}\n",
      "{'VERB': 1943}\n",
      "{'ADP': 6422, 'PRON': 1779, 'DET': 1981, 'ADV': 54, 'X': 1}\n"
     ]
    }
   ],
   "source": [
    "w='he said that'\n",
    "t1=w.split()\n",
    "o1=[]\n",
    "l=[]\n",
    "for k in t1:\n",
    "    for t in p:\n",
    "        if(t[0]==k):\n",
    "            o1.append(t[1])\n",
    "    l.append(o1)\n",
    "    o1=[]\n",
    "counts=dict()\n",
    "for i in range(len(l)):\n",
    "    for j in l[i] :\n",
    "        if j in counts:\n",
    "            counts[j]+= 1\n",
    "        else:\n",
    "            counts[j]=1\n",
    "    print(counts)\n",
    "    counts=dict()"
   ]
  },
  {
   "cell_type": "code",
   "execution_count": 41,
   "metadata": {},
   "outputs": [
    {
     "data": {
      "text/plain": [
       "[]"
      ]
     },
     "execution_count": 41,
     "metadata": {},
     "output_type": "execute_result"
    }
   ],
   "source": [
    "e=['NOUN']\n",
    "o4=[]\n",
    "o5=[]\n",
    "for k in e:\n",
    "    for i in range(len(p)):\n",
    "        for j in p:\n",
    "            if(j[1]==k):\n",
    "                f=i+1\n",
    "                o4.append(j)"
   ]
  },
  {
   "cell_type": "code",
   "execution_count": 57,
   "metadata": {},
   "outputs": [
    {
     "name": "stdout",
     "output_type": "stream",
     "text": [
      "NOUN\n",
      "VERB\n",
      ".\n",
      "ADP\n",
      "ADJ\n",
      "ADV\n",
      "PRON\n",
      "CONJ\n",
      "PRT\n",
      "NUM\n",
      "X\n"
     ]
    }
   ],
   "source": [
    "for k in e:\n",
    "    print(k)"
   ]
  },
  {
   "cell_type": "code",
   "execution_count": null,
   "metadata": {},
   "outputs": [],
   "source": []
  }
 ],
 "metadata": {
  "kernelspec": {
   "display_name": "Python 3 (ipykernel)",
   "language": "python",
   "name": "python3"
  },
  "language_info": {
   "codemirror_mode": {
    "name": "ipython",
    "version": 3
   },
   "file_extension": ".py",
   "mimetype": "text/x-python",
   "name": "python",
   "nbconvert_exporter": "python",
   "pygments_lexer": "ipython3",
   "version": "3.8.3"
  }
 },
 "nbformat": 4,
 "nbformat_minor": 4
}
