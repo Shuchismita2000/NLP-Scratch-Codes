{
 "cells": [
  {
   "cell_type": "code",
   "execution_count": 1,
   "metadata": {},
   "outputs": [],
   "source": [
    "text='Ram is a good boy and also he is a good student'"
   ]
  },
  {
   "cell_type": "code",
   "execution_count": 2,
   "metadata": {},
   "outputs": [],
   "source": [
    "def ngram(n,sent):\n",
    "    word_list=sent.split()\n",
    "    wlist=[]\n",
    "    if(n>len(word_list)):\n",
    "        print('Error!!\\n Value of n is greater than the lenght of Sentence')\n",
    "    elif (n==len(word_list)):\n",
    "        print('Value of n equals to the lenght of Sentence')\n",
    "        print(word_list)\n",
    "    else:\n",
    "        print('START')\n",
    "        for i in word_list:\n",
    "            wlist.append(i)\n",
    "            if(len(wlist)==n):\n",
    "                print(wlist)\n",
    "                wlist=wlist[1:]  \n",
    "        print('END')"
   ]
  },
  {
   "cell_type": "code",
   "execution_count": 3,
   "metadata": {},
   "outputs": [
    {
     "name": "stdout",
     "output_type": "stream",
     "text": [
      "START\n",
      "['Ram', 'is']\n",
      "['is', 'a']\n",
      "['a', 'good']\n",
      "['good', 'boy']\n",
      "['boy', 'and']\n",
      "['and', 'also']\n",
      "['also', 'he']\n",
      "['he', 'is']\n",
      "['is', 'a']\n",
      "['a', 'good']\n",
      "['good', 'student']\n",
      "END\n"
     ]
    }
   ],
   "source": [
    "ngram(2,text)"
   ]
  },
  {
   "cell_type": "code",
   "execution_count": 4,
   "metadata": {},
   "outputs": [
    {
     "name": "stdout",
     "output_type": "stream",
     "text": [
      "START\n",
      "['Ram', 'is', 'a']\n",
      "['is', 'a', 'good']\n",
      "['a', 'good', 'boy']\n",
      "['good', 'boy', 'and']\n",
      "['boy', 'and', 'also']\n",
      "['and', 'also', 'he']\n",
      "['also', 'he', 'is']\n",
      "['he', 'is', 'a']\n",
      "['is', 'a', 'good']\n",
      "['a', 'good', 'student']\n",
      "END\n"
     ]
    }
   ],
   "source": [
    "ngram(3,text)"
   ]
  },
  {
   "cell_type": "code",
   "execution_count": 5,
   "metadata": {},
   "outputs": [
    {
     "name": "stdout",
     "output_type": "stream",
     "text": [
      "START\n",
      "['Ram', 'is', 'a', 'good']\n",
      "['is', 'a', 'good', 'boy']\n",
      "['a', 'good', 'boy', 'and']\n",
      "['good', 'boy', 'and', 'also']\n",
      "['boy', 'and', 'also', 'he']\n",
      "['and', 'also', 'he', 'is']\n",
      "['also', 'he', 'is', 'a']\n",
      "['he', 'is', 'a', 'good']\n",
      "['is', 'a', 'good', 'student']\n",
      "END\n"
     ]
    }
   ],
   "source": [
    "ngram(4,text)"
   ]
  },
  {
   "cell_type": "code",
   "execution_count": 6,
   "metadata": {},
   "outputs": [
    {
     "name": "stdout",
     "output_type": "stream",
     "text": [
      "START\n",
      "['Ram', 'is', 'a', 'good', 'boy']\n",
      "['is', 'a', 'good', 'boy', 'and']\n",
      "['a', 'good', 'boy', 'and', 'also']\n",
      "['good', 'boy', 'and', 'also', 'he']\n",
      "['boy', 'and', 'also', 'he', 'is']\n",
      "['and', 'also', 'he', 'is', 'a']\n",
      "['also', 'he', 'is', 'a', 'good']\n",
      "['he', 'is', 'a', 'good', 'student']\n",
      "END\n"
     ]
    }
   ],
   "source": [
    "ngram(5,text)"
   ]
  },
  {
   "cell_type": "code",
   "execution_count": 7,
   "metadata": {},
   "outputs": [
    {
     "name": "stdout",
     "output_type": "stream",
     "text": [
      "START\n",
      "['Ram', 'is', 'a', 'good', 'boy', 'and']\n",
      "['is', 'a', 'good', 'boy', 'and', 'also']\n",
      "['a', 'good', 'boy', 'and', 'also', 'he']\n",
      "['good', 'boy', 'and', 'also', 'he', 'is']\n",
      "['boy', 'and', 'also', 'he', 'is', 'a']\n",
      "['and', 'also', 'he', 'is', 'a', 'good']\n",
      "['also', 'he', 'is', 'a', 'good', 'student']\n",
      "END\n"
     ]
    }
   ],
   "source": [
    "ngram(6,text)"
   ]
  },
  {
   "cell_type": "code",
   "execution_count": 8,
   "metadata": {},
   "outputs": [
    {
     "name": "stdout",
     "output_type": "stream",
     "text": [
      "START\n",
      "['Ram', 'is', 'a']\n",
      "['is', 'a', 'boy']\n",
      "END\n"
     ]
    }
   ],
   "source": [
    "ngram(3,\"Ram is a boy\")"
   ]
  },
  {
   "cell_type": "code",
   "execution_count": 9,
   "metadata": {},
   "outputs": [
    {
     "name": "stdout",
     "output_type": "stream",
     "text": [
      "Error!!\n",
      " Value of n is greater than the lenght of Sentence\n"
     ]
    }
   ],
   "source": [
    "ngram(14,text)"
   ]
  },
  {
   "cell_type": "code",
   "execution_count": 10,
   "metadata": {},
   "outputs": [
    {
     "name": "stdout",
     "output_type": "stream",
     "text": [
      "Value of n equals to the lenght of Sentence\n",
      "['Ram', 'is', 'a', 'good', 'boy', 'and', 'also', 'he', 'is', 'a', 'good', 'student']\n"
     ]
    }
   ],
   "source": [
    "ngram(12,text)"
   ]
  },
  {
   "cell_type": "code",
   "execution_count": null,
   "metadata": {},
   "outputs": [],
   "source": []
  }
 ],
 "metadata": {
  "kernelspec": {
   "display_name": "Python 3",
   "language": "python",
   "name": "python3"
  },
  "language_info": {
   "codemirror_mode": {
    "name": "ipython",
    "version": 3
   },
   "file_extension": ".py",
   "mimetype": "text/x-python",
   "name": "python",
   "nbconvert_exporter": "python",
   "pygments_lexer": "ipython3",
   "version": "3.8.3"
  }
 },
 "nbformat": 4,
 "nbformat_minor": 4
}
